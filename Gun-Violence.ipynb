{
 "cells": [
  {
   "cell_type": "code",
   "execution_count": 4,
   "metadata": {},
   "outputs": [
    {
     "name": "stdout",
     "output_type": "stream",
     "text": [
      "          version https://git-lfs.github.com/spec/v1\n",
      "0  oid sha256:c752945fb1d9252a61fbd2abdd8849999cc...\n",
      "1                                     size 149698584\n"
     ]
    }
   ],
   "source": [
    "import pandas as pd\n",
    "cols = list(pd.read_csv(\"stage3.csv\", nrows =1))\n",
    "df= pd.read_csv(\"stage3.csv\", usecols =[i for i in cols if i != 'sources'])\n",
    "#df = pd.read_csv('/content/stage3.csv', error_bad_lines=False)\n",
    "print(df)"
   ]
  }
 ],
 "metadata": {
  "kernelspec": {
   "display_name": "Python 3.9.1 64-bit",
   "metadata": {
    "interpreter": {
     "hash": "ac2eaa0ea0ebeafcc7822e65e46aa9d4f966f30b695406963e145ea4a91cd4fc"
    }
   },
   "name": "python3"
  },
  "language_info": {
   "codemirror_mode": {
    "name": "ipython",
    "version": 3
   },
   "file_extension": ".py",
   "mimetype": "text/x-python",
   "name": "python",
   "nbconvert_exporter": "python",
   "pygments_lexer": "ipython3",
   "version": "3.9.1"
  },
  "orig_nbformat": 4
 },
 "nbformat": 4,
 "nbformat_minor": 2
}