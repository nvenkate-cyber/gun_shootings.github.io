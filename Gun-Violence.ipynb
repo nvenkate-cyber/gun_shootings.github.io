{
 "cells": [
  {
   "cell_type": "code",
   "execution_count": 9,
   "metadata": {},
   "outputs": [
    {
     "data": {
      "text/html": "<div>\n<style scoped>\n    .dataframe tbody tr th:only-of-type {\n        vertical-align: middle;\n    }\n\n    .dataframe tbody tr th {\n        vertical-align: top;\n    }\n\n    .dataframe thead th {\n        text-align: right;\n    }\n</style>\n<table border=\"1\" class=\"dataframe\">\n  <thead>\n    <tr style=\"text-align: right;\">\n      <th></th>\n      <th>version https://git-lfs.github.com/spec/v1</th>\n    </tr>\n  </thead>\n  <tbody>\n    <tr>\n      <th>0</th>\n      <td>oid sha256:c752945fb1d9252a61fbd2abdd8849999cc...</td>\n    </tr>\n    <tr>\n      <th>1</th>\n      <td>size 149698584</td>\n    </tr>\n  </tbody>\n</table>\n</div>",
      "text/plain": "          version https://git-lfs.github.com/spec/v1\n0  oid sha256:c752945fb1d9252a61fbd2abdd8849999cc...\n1                                     size 149698584"
     },
     "execution_count": 9,
     "metadata": {},
     "output_type": "execute_result"
    }
   ],
   "source": [
    "import pandas as pd\n",
    "cols = list(pd.read_csv(\"stage3.csv\", nrows =1))\n",
    "df= pd.read_csv(\"stage3.csv\", usecols =[i for i in cols if i != 'sources'])\n",
    "#df = pd.read_csv('/content/stage3.csv', error_bad_lines=False)\n",
    "df"
   ]
  }
 ],
 "metadata": {
  "kernelspec": {
   "display_name": "Python 3.9.1 64-bit",
   "metadata": {
    "interpreter": {
     "hash": "ac2eaa0ea0ebeafcc7822e65e46aa9d4f966f30b695406963e145ea4a91cd4fc"
    }
   },
   "name": "python3"
  },
  "language_info": {
   "codemirror_mode": {
    "name": "ipython",
    "version": 3
   },
   "file_extension": ".py",
   "mimetype": "text/x-python",
   "name": "python",
   "nbconvert_exporter": "python",
   "pygments_lexer": "ipython3",
   "version": "3.9.1"
  },
  "orig_nbformat": 4
 },
 "nbformat": 4,
 "nbformat_minor": 2
}